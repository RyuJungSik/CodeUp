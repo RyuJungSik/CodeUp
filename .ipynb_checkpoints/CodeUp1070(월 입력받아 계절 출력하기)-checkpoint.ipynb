{
 "cells": [
  {
   "cell_type": "code",
   "execution_count": 10,
   "metadata": {},
   "outputs": [
    {
     "name": "stdout",
     "output_type": "stream",
     "text": [
      "12\n",
      "winter\n"
     ]
    }
   ],
   "source": [
    "\n",
    "a=int(input())\n",
    "\n",
    "if a==1 or a==12 or a==2:\n",
    "    print(\"winter\")\n",
    "elif a==3 or a==4 or a==5:\n",
    "    print(\"spring\")\n",
    "elif a==6 or a==7 or a==8:\n",
    "    print(\"summer\")\n",
    "else:\n",
    "    print(\"fall\")"
   ]
  },
  {
   "cell_type": "code",
   "execution_count": null,
   "metadata": {},
   "outputs": [],
   "source": []
  }
 ],
 "metadata": {
  "kernelspec": {
   "display_name": "Python 3",
   "language": "python",
   "name": "python3"
  },
  "language_info": {
   "codemirror_mode": {
    "name": "ipython",
    "version": 3
   },
   "file_extension": ".py",
   "mimetype": "text/x-python",
   "name": "python",
   "nbconvert_exporter": "python",
   "pygments_lexer": "ipython3",
   "version": "3.8.5"
  }
 },
 "nbformat": 4,
 "nbformat_minor": 4
}
