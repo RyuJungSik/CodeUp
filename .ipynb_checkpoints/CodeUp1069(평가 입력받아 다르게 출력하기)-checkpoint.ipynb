{
 "cells": [
  {
   "cell_type": "code",
   "execution_count": 6,
   "metadata": {},
   "outputs": [
    {
     "name": "stdout",
     "output_type": "stream",
     "text": [
      "C\n",
      "run!\n"
     ]
    }
   ],
   "source": [
    "\n",
    "a=input()\n",
    "\n",
    "if a=='A':\n",
    "    print(\"best!!!\")\n",
    "elif a=='B':\n",
    "    print(\"good!!\")\n",
    "elif a=='C':\n",
    "    print(\"run!\")\n",
    "elif a=='D':\n",
    "    print(\"slowly~\")\n",
    "else:\n",
    "    print(\"what?\")"
   ]
  },
  {
   "cell_type": "code",
   "execution_count": null,
   "metadata": {},
   "outputs": [],
   "source": []
  }
 ],
 "metadata": {
  "kernelspec": {
   "display_name": "Python 3",
   "language": "python",
   "name": "python3"
  },
  "language_info": {
   "codemirror_mode": {
    "name": "ipython",
    "version": 3
   },
   "file_extension": ".py",
   "mimetype": "text/x-python",
   "name": "python",
   "nbconvert_exporter": "python",
   "pygments_lexer": "ipython3",
   "version": "3.8.5"
  }
 },
 "nbformat": 4,
 "nbformat_minor": 4
}
