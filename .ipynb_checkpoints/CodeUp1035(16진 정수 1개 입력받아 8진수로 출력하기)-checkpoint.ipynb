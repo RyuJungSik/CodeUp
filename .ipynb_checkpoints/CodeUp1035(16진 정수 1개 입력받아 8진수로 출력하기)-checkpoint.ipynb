{
 "cells": [
  {
   "cell_type": "code",
   "execution_count": 22,
   "metadata": {},
   "outputs": [
    {
     "name": "stdout",
     "output_type": "stream",
     "text": [
      "f\n",
      "17\n",
      "0o17\n"
     ]
    }
   ],
   "source": [
    "a=input()\n",
    "b=\"0x\"\n",
    "a=b+a\n",
    "a=int(a, 16)\n",
    "a=oct(a)\n",
    "\n",
    "print(a[2:len(a)])"
   ]
  },
  {
   "cell_type": "code",
   "execution_count": null,
   "metadata": {},
   "outputs": [],
   "source": []
  }
 ],
 "metadata": {
  "kernelspec": {
   "display_name": "Python 3",
   "language": "python",
   "name": "python3"
  },
  "language_info": {
   "codemirror_mode": {
    "name": "ipython",
    "version": 3
   },
   "file_extension": ".py",
   "mimetype": "text/x-python",
   "name": "python",
   "nbconvert_exporter": "python",
   "pygments_lexer": "ipython3",
   "version": "3.8.5"
  }
 },
 "nbformat": 4,
 "nbformat_minor": 4
}
