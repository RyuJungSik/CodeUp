{
 "cells": [
  {
   "cell_type": "code",
   "execution_count": 24,
   "metadata": {},
   "outputs": [
    {
     "name": "stdout",
     "output_type": "stream",
     "text": [
      "5 5\n",
      "3\n",
      "2 0 1 1\n",
      "3 1 2 3\n",
      "4 1 2 5\n",
      "1 1 0 0 0 \n",
      "0 0 1 0 1 \n",
      "0 0 1 0 1 \n",
      "0 0 1 0 1 \n",
      "0 0 0 0 1 \n"
     ]
    }
   ],
   "source": [
    "h, w=map(int, input().split())\n",
    "main_list=[[0 for i in range(w)] for j in range(h)]\n",
    "n=int(input())\n",
    "input_list=[]\n",
    "\n",
    "for i in range(n):\n",
    "    input_list=input().split()\n",
    "    x=int(input_list[2])-1\n",
    "    y=int(input_list[3])-1\n",
    "    for j in range(int(input_list[0])):\n",
    "        if input_list[1]=='0':\n",
    "            main_list[x][y+j]=1        \n",
    "        else:\n",
    "            main_list[x+j][y]=1\n",
    "            \n",
    "\n",
    "            \n",
    "for i in range(h):\n",
    "    for j in range(w):\n",
    "        print(main_list[i][j], end=\" \")\n",
    "    print()"
   ]
  },
  {
   "cell_type": "code",
   "execution_count": null,
   "metadata": {},
   "outputs": [],
   "source": []
  },
  {
   "cell_type": "code",
   "execution_count": null,
   "metadata": {},
   "outputs": [],
   "source": []
  }
 ],
 "metadata": {
  "kernelspec": {
   "display_name": "Python 3",
   "language": "python",
   "name": "python3"
  }
 },
 "nbformat": 4,
 "nbformat_minor": 4
}
