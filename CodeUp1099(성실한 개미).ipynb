{
 "cells": [
  {
   "cell_type": "code",
   "execution_count": null,
   "metadata": {},
   "outputs": [],
   "source": [
    "main_list=[[0 for i in range(10)] for j in range(10)]\n",
    "\n",
    "for i in range(10):\n",
    "    main_list[i]=input().split()\n",
    "\n",
    "a=1\n",
    "b=1\n",
    "\n",
    "\n",
    "\n",
    "\n",
    "while b<10:\n",
    "    if main_list[1][1]=='2':\n",
    "        main_list[1][1]=9\n",
    "        break\n",
    "    else:\n",
    "         main_list[1][1]=9\n",
    "    \n",
    "    \n",
    "    if main_list[a][b+1]=='0':\n",
    "        main_list[a][b+1]=9\n",
    "        b+=1\n",
    "    elif main_list[a][b+1]=='1':\n",
    "        if main_list[a+1][b]=='0':\n",
    "            main_list[a+1][b]=9\n",
    "            a+=1\n",
    "        elif main_list[a+1][b]=='1':\n",
    "            break\n",
    "        else:\n",
    "            main_list[a+1][b]=9\n",
    "            break;      \n",
    "    else:\n",
    "        main_list[a][b+1]=9\n",
    "        break;\n",
    "\n",
    "for i in range(10):\n",
    "    for j in range(10):\n",
    "        print(main_list[i][j], end=\" \")\n",
    "    print()\n",
    "\n"
   ]
  },
  {
   "cell_type": "code",
   "execution_count": null,
   "metadata": {},
   "outputs": [],
   "source": []
  },
  {
   "cell_type": "code",
   "execution_count": null,
   "metadata": {},
   "outputs": [],
   "source": []
  },
  {
   "cell_type": "code",
   "execution_count": null,
   "metadata": {},
   "outputs": [],
   "source": []
  }
 ],
 "metadata": {
  "kernelspec": {
   "display_name": "Python 3",
   "language": "python",
   "name": "python3"
  }
 },
 "nbformat": 4,
 "nbformat_minor": 4
}
